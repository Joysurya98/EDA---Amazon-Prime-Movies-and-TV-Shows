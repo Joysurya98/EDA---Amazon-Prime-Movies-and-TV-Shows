{
  "nbformat": 4,
  "nbformat_minor": 0,
  "metadata": {
    "colab": {
      "private_outputs": true,
      "provenance": [],
      "collapsed_sections": [
        "w6K7xa23Elo4",
        "gIfDvo9L0UH2"
      ]
    },
    "kernelspec": {
      "name": "python3",
      "display_name": "Python 3"
    },
    "language_info": {
      "name": "python"
    }
  },
  "cells": [
    {
      "cell_type": "markdown",
      "source": [
        "# **Project Name**    - Amazon Prime TV Shows and Movies\n",
        "\n"
      ],
      "metadata": {
        "id": "vncDsAP0Gaoa"
      }
    },
    {
      "cell_type": "markdown",
      "source": [
        "##### **Project Type**    - EDA\n",
        "##### **Contribution**    - Individual\n",
        "##### **Team Member 1 -** Joysurya Bhattacharya\n"
      ],
      "metadata": {
        "id": "beRrZCGUAJYm"
      }
    },
    {
      "cell_type": "markdown",
      "source": [
        "# **Project Summary -**"
      ],
      "metadata": {
        "id": "FJNUwmbgGyua"
      }
    },
    {
      "cell_type": "markdown",
      "source": [
        "My project is a comprehensive exploratory data analysis (EDA) of Amazon Prime Video's content catalog, using publicly available datasets on movies and TV shows. Leveraging Python tools like pandas, NumPy, Matplotlib, and Seaborn I performed:\n",
        "\n",
        "1. Data cleaning and ingestion - Missing values and duplicate values removal.\n",
        "\n",
        "2. Data wrangling- Feature extraction and irrelevant data removal.\n",
        "\n",
        "2. Content Genre wise data analysis and visualization.\n",
        "\n",
        "3. Regional data analysis and visualization.\n",
        "\n",
        "4. Cross-attribute analysis - runtime vs. release year, rating vs. regions, IMDB TMDB Rating comparisons.\n",
        "\n",
        "5. Age certification data analysis and visualization\n",
        "\n",
        "My goal: to derive actionable insights for content strategy, platform improvement, and stakeholder decision-making."
      ],
      "metadata": {
        "id": "F6v_1wHtG2nS"
      }
    },
    {
      "cell_type": "markdown",
      "source": [
        "# **GitHub Link -**"
      ],
      "metadata": {
        "id": "w6K7xa23Elo4"
      }
    },
    {
      "cell_type": "markdown",
      "source": [
        "Provide your GitHub Link here."
      ],
      "metadata": {
        "id": "h1o69JH3Eqqn"
      }
    },
    {
      "cell_type": "markdown",
      "source": [
        "# **Problem Statement**\n"
      ],
      "metadata": {
        "id": "yQaldy8SH6Dl"
      }
    },
    {
      "cell_type": "markdown",
      "source": [
        "Problem Statement\n",
        "\n",
        "This dataset was created to analyze all shows available on Amazon Prime Video, allowing us to extract valuable insights such as:\n",
        "\n",
        "Content Diversity: What genres and categories dominate the platform?\n",
        "Regional Availability: How does content distribution vary across different regions?\n",
        "Trends Over Time: How has Amazon Prime’s content library evolved?\n",
        "IMDb Ratings & Popularity: What are the highest-rated or most popular shows on the platform?\n",
        "By analyzing this dataset, businesses, content creators, and data analysts can uncover key trends that influence subscription growth, user engagement, and content investment strategies in the streaming industry."
      ],
      "metadata": {
        "id": "DpeJGUA3kjGy"
      }
    },
    {
      "cell_type": "markdown",
      "source": [
        "#### Business Objectives"
      ],
      "metadata": {
        "id": "PH-0ReGfmX4f"
      }
    },
    {
      "cell_type": "markdown",
      "source": [
        "1. **Understand Content Mix & Trends**\n",
        "\n",
        "Identify which genres (e.g., drama, comedy, action) dominate Amazon Prime Video.\n",
        "\n",
        "Analyze content growth over time: Are TV shows or movies increasing faster?\n",
        "\n",
        "2. **Demographic & Audience Insights**\n",
        "\n",
        "Assess how content is consumed region-wise.\n",
        "\n",
        "Understand diversification of content demand.\n",
        "\n",
        "3. **Content Efficiency & Engagement Metrics**\n",
        "\n",
        "Explore metrics like runtime, release year, and how they evolve.\n",
        "\n",
        "Use correlations (longer runtime vs popularity, runtimes vs ratings) to guide future acquisitions.\n",
        "\n",
        "4. **Support Strategic Decisions**\n",
        "\n",
        "Provide insights for content acquisition teams, marketing, and product strategy, highlighting gaps or opportunities in content distribution.\n",
        "\n"
      ],
      "metadata": {
        "id": "PhDvGCAqmjP1"
      }
    },
    {
      "cell_type": "markdown",
      "source": [
        "# ***Let's Begin !***"
      ],
      "metadata": {
        "id": "O_i_v8NEhb9l"
      }
    },
    {
      "cell_type": "markdown",
      "source": [
        "## ***1. Know Your Data***"
      ],
      "metadata": {
        "id": "HhfV-JJviCcP"
      }
    },
    {
      "cell_type": "markdown",
      "source": [
        "### Import Libraries"
      ],
      "metadata": {
        "id": "Y3lxredqlCYt"
      }
    },
    {
      "cell_type": "code",
      "source": [
        "import pandas as pd\n",
        "import numpy as np\n",
        "import seaborn as sns\n",
        "import matplotlib.pyplot as plt\n"
      ],
      "metadata": {
        "id": "M8Vqi-pPk-HR"
      },
      "execution_count": null,
      "outputs": []
    },
    {
      "cell_type": "markdown",
      "source": [
        "### Dataset Loading"
      ],
      "metadata": {
        "id": "3RnN4peoiCZX"
      }
    },
    {
      "cell_type": "code",
      "source": [
        "from google.colab import files\n",
        "uploaded = files.upload()  # Upload titles.csv and credits.csv\n",
        "\n",
        "\n",
        "\n"
      ],
      "metadata": {
        "id": "4CkvbW_SlZ_R"
      },
      "execution_count": null,
      "outputs": []
    },
    {
      "cell_type": "code",
      "source": [
        "# Load Datasets - Titles and Credits\n",
        "titles_df = pd.read_csv(\"titles.csv\")\n",
        "credits_df = pd.read_csv(\"credits.csv\")"
      ],
      "metadata": {
        "id": "VjaMPvEsk2Fz"
      },
      "execution_count": null,
      "outputs": []
    },
    {
      "cell_type": "markdown",
      "source": [
        "### Dataset First View"
      ],
      "metadata": {
        "id": "x71ZqKXriCWQ"
      }
    },
    {
      "cell_type": "code",
      "source": [
        "# Dataset - Titles First 10 Rows\n",
        "titles_df.head(10)\n",
        "\n"
      ],
      "metadata": {
        "id": "LWNFOSvLl09H",
        "collapsed": true
      },
      "execution_count": null,
      "outputs": []
    },
    {
      "cell_type": "code",
      "source": [
        "# Dataset - Credits First 10 Rows\n",
        "credits_df.head(10)\n"
      ],
      "metadata": {
        "collapsed": true,
        "id": "N9Fp1uwigKST"
      },
      "execution_count": null,
      "outputs": []
    },
    {
      "cell_type": "markdown",
      "source": [
        "### Dataset Rows & Columns count"
      ],
      "metadata": {
        "id": "7hBIi_osiCS2"
      }
    },
    {
      "cell_type": "code",
      "source": [
        "# Dataset Rows & Columns count\n",
        "titles_df.shape"
      ],
      "metadata": {
        "id": "Kllu7SJgmLij"
      },
      "execution_count": null,
      "outputs": []
    },
    {
      "cell_type": "code",
      "source": [
        "credits_df.shape"
      ],
      "metadata": {
        "id": "XLNGd6WWiWoT"
      },
      "execution_count": null,
      "outputs": []
    },
    {
      "cell_type": "markdown",
      "source": [
        "### Dataset Information"
      ],
      "metadata": {
        "id": "JlHwYmJAmNHm"
      }
    },
    {
      "cell_type": "code",
      "source": [
        "# Dataset Info\n",
        "titles_df.info()"
      ],
      "metadata": {
        "id": "e9hRXRi6meOf",
        "collapsed": true
      },
      "execution_count": null,
      "outputs": []
    },
    {
      "cell_type": "code",
      "source": [
        "# Dataset Info\n",
        "credits_df.info()"
      ],
      "metadata": {
        "collapsed": true,
        "id": "xFxcrYvsisZ6"
      },
      "execution_count": null,
      "outputs": []
    },
    {
      "cell_type": "markdown",
      "source": [
        "#### Duplicate Values"
      ],
      "metadata": {
        "id": "35m5QtbWiB9F"
      }
    },
    {
      "cell_type": "code",
      "source": [
        "# Dataset Duplicate Value Count\n",
        "credits_df.duplicated().value_counts()"
      ],
      "metadata": {
        "id": "1sLdpKYkmox0",
        "collapsed": true
      },
      "execution_count": null,
      "outputs": []
    },
    {
      "cell_type": "code",
      "source": [
        "# Dataset Duplicate Value Count\n",
        "titles_df.duplicated().value_counts()"
      ],
      "metadata": {
        "collapsed": true,
        "id": "rUFvI_vRjeFY"
      },
      "execution_count": null,
      "outputs": []
    },
    {
      "cell_type": "code",
      "source": [
        "# remove duplicates from titles and credits\n",
        "t_df=titles_df.drop_duplicates()\n",
        "c_df=credits_df.drop_duplicates()"
      ],
      "metadata": {
        "id": "Jsw29TUykVN1"
      },
      "execution_count": null,
      "outputs": []
    },
    {
      "cell_type": "markdown",
      "source": [
        "**Duplicate values check and drop based on Column Subsets**"
      ],
      "metadata": {
        "id": "HGOy_F9bMgWf"
      }
    },
    {
      "cell_type": "code",
      "source": [
        "t_df.columns"
      ],
      "metadata": {
        "id": "_OHwz6WOJf2S"
      },
      "execution_count": null,
      "outputs": []
    },
    {
      "cell_type": "code",
      "source": [
        "# Check whether duplicate values exist based on imdb_id\n",
        "t_df['imdb_id'].duplicated().sum()"
      ],
      "metadata": {
        "collapsed": true,
        "id": "J40JercimB7m"
      },
      "execution_count": null,
      "outputs": []
    },
    {
      "cell_type": "code",
      "source": [
        "# Filter rows where imdb_id is duplicated\n",
        "duplicates = t_df[t_df.duplicated(subset='imdb_id', keep=False)]\n",
        "\n",
        "# Sort for better readability\n",
        "duplicates = duplicates.sort_values(by='imdb_id')\n",
        "\n",
        "# Show them\n",
        "print(duplicates.loc[:,['imdb_id','title']])\n",
        "\n",
        "#imdb id showing duplicate values are 'NaN' values. Therefore will be handled as Missing value case"
      ],
      "metadata": {
        "collapsed": true,
        "id": "OCOnt8QFm6sF"
      },
      "execution_count": null,
      "outputs": []
    },
    {
      "cell_type": "code",
      "source": [
        "# Duplicate title dropped based on same title, runtime and genres\n",
        "t_df['title_lower'] = titles_df['title'].str.lower()\n",
        "t_df.duplicated(subset=['title_lower','runtime','genres'],keep=False).value_counts()\n"
      ],
      "metadata": {
        "collapsed": true,
        "id": "qWAAgxvHJMFi"
      },
      "execution_count": null,
      "outputs": []
    },
    {
      "cell_type": "code",
      "source": [
        "t_df=t_df.drop_duplicates(subset=['title_lower','runtime','genres'],keep='first')"
      ],
      "metadata": {
        "collapsed": true,
        "id": "GQIdEz0rKrMN"
      },
      "execution_count": null,
      "outputs": []
    },
    {
      "cell_type": "code",
      "source": [
        "# Filter rows where title and release year is duplicated\n",
        "duplicates = t_df[t_df.duplicated(subset=['title','release_year'], keep=False)]\n",
        "\n",
        "# Sort for better readability\n",
        "duplicates = duplicates.sort_values(by='title')\n",
        "\n",
        "# Show them\n",
        "print(duplicates.loc[:,['title','production_countries']])\n",
        "\n",
        "#Production countries are different, therefore there is region based distinction. No duplicates dropped"
      ],
      "metadata": {
        "id": "gu7iqO2folwn",
        "collapsed": true
      },
      "execution_count": null,
      "outputs": []
    },
    {
      "cell_type": "code",
      "source": [
        "#Check for duplicates in Credits dataset column subsets\n",
        "c_df.columns\n"
      ],
      "metadata": {
        "id": "II7JhFKHNg0_"
      },
      "execution_count": null,
      "outputs": []
    },
    {
      "cell_type": "code",
      "source": [
        "#based on person_id and movie id\n",
        "c_df.duplicated(subset=['person_id','id'],keep=False).sum()"
      ],
      "metadata": {
        "id": "T_sUSOAlOERr",
        "collapsed": true
      },
      "execution_count": null,
      "outputs": []
    },
    {
      "cell_type": "code",
      "source": [
        "# Filter rows where movie id and person_id is duplicated\n",
        "duplicates = c_df[c_df.duplicated(subset=['person_id','id'], keep=False)]\n",
        "\n",
        "# Sort for better readability\n",
        "duplicates = duplicates.sort_values(by='person_id')\n",
        "\n",
        "# Show them\n",
        "print(duplicates.loc[:,['person_id','id','name']])"
      ],
      "metadata": {
        "collapsed": true,
        "id": "sRaT7UyZO2_W"
      },
      "execution_count": null,
      "outputs": []
    },
    {
      "cell_type": "code",
      "source": [
        "#duplicates for person_id exists for the same movie, therefore dropping them\n",
        "c_df=c_df.drop_duplicates(subset=['person_id','id'],keep='first')"
      ],
      "metadata": {
        "collapsed": true,
        "id": "Z2u4kT0QPylx"
      },
      "execution_count": null,
      "outputs": []
    },
    {
      "cell_type": "markdown",
      "source": [
        "#### Missing Values/Null Values"
      ],
      "metadata": {
        "id": "PoPl-ycgm1ru"
      }
    },
    {
      "cell_type": "markdown",
      "source": [
        "Missing Values in Titles Dataset"
      ],
      "metadata": {
        "id": "Nje8uRQOvY0-"
      }
    },
    {
      "cell_type": "code",
      "source": [
        "# Missing Values count in Titles dataset\n",
        "t_df.isnull().mean()*100\n"
      ],
      "metadata": {
        "id": "GgHWkxvamxVg",
        "collapsed": true
      },
      "execution_count": null,
      "outputs": []
    },
    {
      "cell_type": "code",
      "source": [
        "# more than 80% data is null in seasons column. Therefore the column is dropped\n",
        "\n",
        "t_df = t_df.drop(['seasons'], axis=1)"
      ],
      "metadata": {
        "id": "t-DSQQNCa6NJ"
      },
      "execution_count": null,
      "outputs": []
    },
    {
      "cell_type": "code",
      "source": [
        "# 58% null values in age_certification columns\n",
        "\n",
        "#insight: Amazon's catalog lacks age certifications for 58% of titles, which may hinder parental control or age-based recommendations.\n",
        "\n",
        "# Creating a seperate column for titles which have age certifications for further comparisons\n",
        "\n",
        "t_df['has_certification'] = t_df['age_certification'].notnull()\n",
        "t_df.loc[:,['title','has_certification']]\n"
      ],
      "metadata": {
        "id": "3q5wnI3om9sJ",
        "collapsed": true
      },
      "execution_count": null,
      "outputs": []
    },
    {
      "cell_type": "code",
      "source": [
        "t_df.columns"
      ],
      "metadata": {
        "collapsed": true,
        "id": "rhhblm54hCWL"
      },
      "execution_count": null,
      "outputs": []
    },
    {
      "cell_type": "code",
      "source": [
        "#null values based on imdb oriented columns\n",
        "cond=t_df['imdb_id'].isnull()==True\n",
        "t_df.loc[cond,:]\n",
        "\n",
        "#insight: imdb data missing in 6% rows approximately.\n",
        "# IMDB data is core to analysis of popularity and rating of the titles.\n",
        "#These null data might distort the insights and findings from data visualization.\n",
        "\n",
        "\n"
      ],
      "metadata": {
        "collapsed": true,
        "id": "8ivjluHuedyC"
      },
      "execution_count": null,
      "outputs": []
    },
    {
      "cell_type": "code",
      "source": [
        "#Drop IMDB data with null values\n",
        "t_df=t_df.dropna(subset=['imdb_id','imdb_score','imdb_votes'])"
      ],
      "metadata": {
        "id": "e9lxzqhBop-t"
      },
      "execution_count": null,
      "outputs": []
    },
    {
      "cell_type": "code",
      "source": [
        "#null values based on tmdb oriented columns\n",
        "cond=t_df['tmdb_score'].isnull()==True\n",
        "t_df.loc[cond,:]\n",
        "\n",
        "#insight: tmdb_score data missing in 17% rows approximately.\n",
        "# tmdb_score and tmdb_popularity data is core to analysis of popularity and rating of the titles.\n",
        "#These null data might distort the insights and findings from data visualization.\n"
      ],
      "metadata": {
        "collapsed": true,
        "id": "LmLhcJRjpAnD"
      },
      "execution_count": null,
      "outputs": []
    },
    {
      "cell_type": "code",
      "source": [
        "#Drop IMDB data with null values\n",
        "t_df=t_df.dropna(subset=['tmdb_popularity', 'tmdb_score'])"
      ],
      "metadata": {
        "id": "7ts0wlBEmdwU"
      },
      "execution_count": null,
      "outputs": []
    },
    {
      "cell_type": "markdown",
      "source": [
        "Missing values in Credits Dataset"
      ],
      "metadata": {
        "id": "TIhFXSMPvhSZ"
      }
    },
    {
      "cell_type": "code",
      "source": [
        "# Missing Values count in Credits dataset in percentage\n",
        "c_df.isnull().mean()*100"
      ],
      "metadata": {
        "collapsed": true,
        "id": "sjQnAVjgvmUo"
      },
      "execution_count": null,
      "outputs": []
    },
    {
      "cell_type": "code",
      "source": [
        "#characters column holds very low relevance to the data insights we aim to find\n",
        "#therefore, we can safely ignore the null data in characters column in credits"
      ],
      "metadata": {
        "id": "W91avGCVwWup"
      },
      "execution_count": null,
      "outputs": []
    },
    {
      "cell_type": "markdown",
      "source": [
        "**OBSERVATIONS AND INTERPRETATIONS FROM DATA CLEANING**\n",
        "\n",
        "---\n",
        "**TITLES DATASET**\n",
        "\n",
        "1. Amazon's catalog lacks age certifications for 58% of titles, which may hinder parental control or age-based recommendations.\n",
        "However it is an important parameter to determine age based content restriction on the platform.\n",
        "2. Tmdb_score data missing in 17% rows approximately.\n",
        "These null data might distort the insights and findings from data visualization.\n",
        "However, tmdb_score and tmdb_popularity data is core to analysis of popularity and rating of the titles.\n",
        "3. More than 80% data is null in seasons column. Therefore the column is dropped to avoid distortion during visualization.\n",
        "4. Tuples having missing values from IMDB columns are removed for cleaner data representation to determine rating trends.\n",
        "5. Duplicate values based on runtime,title and genre are removed\n",
        "\n",
        "**CREDITS DATASET**\n",
        "\n",
        "1. Duplicate  values for person id and id columns subset are removed for cleaner data.\n",
        "2. Characters column holds very low relevance to the data insights we aim to find.\n",
        "therefore, we can safely ignore the null data in characters column in credits.\n",
        "\n"
      ],
      "metadata": {
        "id": "CizoTuxjs7tI"
      }
    },
    {
      "cell_type": "markdown",
      "source": [
        "Saved the cleaned datasets"
      ],
      "metadata": {
        "id": "GviR7vXzUp8p"
      }
    },
    {
      "cell_type": "code",
      "source": [],
      "metadata": {
        "id": "ZpY9rWXwUy_q"
      },
      "execution_count": null,
      "outputs": []
    },
    {
      "cell_type": "code",
      "source": [
        "#save the cleaned datasets\n",
        "t_df.to_csv('titles_cleaned.csv', index=False)\n",
        "c_df.to_csv('credits_cleaned.csv', index=False)"
      ],
      "metadata": {
        "id": "51_Q9yHBT-4a"
      },
      "execution_count": null,
      "outputs": []
    },
    {
      "cell_type": "markdown",
      "source": [
        "## ***2. Understanding Your Variables***"
      ],
      "metadata": {
        "id": "nA9Y7ga8ng1Z"
      }
    },
    {
      "cell_type": "code",
      "source": [
        "# Titles Dataset Columns\n",
        "t_df.columns"
      ],
      "metadata": {
        "id": "j7xfkqrt5Ag5"
      },
      "execution_count": null,
      "outputs": []
    },
    {
      "cell_type": "code",
      "source": [
        "#Titles Dataset Describe\n",
        "t_df.describe()\n"
      ],
      "metadata": {
        "id": "DnOaZdaE5Q5t",
        "collapsed": true
      },
      "execution_count": null,
      "outputs": []
    },
    {
      "cell_type": "code",
      "source": [
        "t_df.info()"
      ],
      "metadata": {
        "collapsed": true,
        "id": "Wj12pZ32WamX"
      },
      "execution_count": null,
      "outputs": []
    },
    {
      "cell_type": "code",
      "source": [
        "#genres for each show/movie sometimes have multiple genres listed\n",
        "titles_df['genres'].value_counts()"
      ],
      "metadata": {
        "collapsed": true,
        "id": "o2V7p04PY1ki"
      },
      "execution_count": null,
      "outputs": []
    },
    {
      "cell_type": "code",
      "source": [
        "c_df.head()"
      ],
      "metadata": {
        "id": "9xqY_A3-fqA2",
        "collapsed": true
      },
      "execution_count": null,
      "outputs": []
    },
    {
      "cell_type": "markdown",
      "source": [
        "**INSIGHTS TO AVAILABLE DATA**\n",
        "\n",
        "\n",
        "1. In order to properly visualize data and produce content summaries and results categorically, the titles and credits datasets needs to be joined.\n",
        "2. Irrelevant columns needs to be removed before joining to avoid extra columns and tuples that do not contribute to the visualizations.\n",
        "3. Also, particular columns needs to be exploded for proper data analysis and visualization.\n",
        "\n"
      ],
      "metadata": {
        "id": "ECy-Cn3pwzUr"
      }
    },
    {
      "cell_type": "markdown",
      "source": [
        "## 3. ***Data Wrangling***"
      ],
      "metadata": {
        "id": "dauF4eBmngu3"
      }
    },
    {
      "cell_type": "markdown",
      "source": [
        "### Data Wrangling Code"
      ],
      "metadata": {
        "id": "bKJF3rekwFvQ"
      }
    },
    {
      "cell_type": "code",
      "source": [
        "# drop character person_id  columns in credits dataset\n",
        "\n",
        "c_df=c_df.drop(columns=['character', 'person_id'])\n"
      ],
      "metadata": {
        "id": "wk-9a2fpoLcV"
      },
      "execution_count": null,
      "outputs": []
    },
    {
      "cell_type": "code",
      "source": [
        "# credits Dataset Columns\n",
        "c_df['name']=credits_df['name']"
      ],
      "metadata": {
        "id": "i0DQaKchb7wx"
      },
      "execution_count": null,
      "outputs": []
    },
    {
      "cell_type": "code",
      "source": [
        "\n",
        "t_df['genres'] = t_df['genres'].astype(str)\n",
        "# Remove brackets and extra spaces\n",
        "t_df['genres_clean'] = (\n",
        "    t_df['genres']\n",
        "    .fillna('')  # Replace NaNs with empty string\n",
        "    .str.replace(r'[\\[\\]]', '', regex=True)  # Remove [ and ]\n",
        "    .str.split(',')  # Split on comma\n",
        ")\n",
        "\n",
        "# Strip extra whitespace from each genre\n",
        "t_df['genres_clean'] = t_df['genres_clean'].apply(lambda x: [g.strip() for g in x if g.strip() != ''])\n",
        "\n",
        "# Explode into separate rows\n",
        "t_df = t_df.explode('genres_clean').rename(columns={'genres_clean': 'genre'})\n",
        "\n",
        "#drop original 'genres' column if no longer needed\n",
        "t_df=t_df.drop(columns=['genres'])\n",
        "\n",
        "# Now 'genre' column has one genre per row\n"
      ],
      "metadata": {
        "id": "mo5_R7Toiaol",
        "collapsed": true
      },
      "execution_count": null,
      "outputs": []
    },
    {
      "cell_type": "code",
      "source": [
        "t_df['production_countries'] = t_df['production_countries'].astype(str)\n",
        "# Remove brackets and extra spaces\n",
        "t_df['countries_clean'] = (\n",
        "    t_df['production_countries']\n",
        "    .fillna('')  # Replace NaNs with empty string\n",
        "    .str.replace(r'[\\[\\]]', '', regex=True)  # Remove [ and ]\n",
        "    .str.split(',')  # Split on comma\n",
        ")\n",
        "\n",
        "# Strip extra whitespace from each genre\n",
        "t_df['countries_clean'] = t_df['countries_clean'].apply(lambda x: [g.strip() for g in x if g.strip() != ''])\n",
        "\n",
        "# Explode into separate rows\n",
        "t_df = t_df.explode('countries_clean').rename(columns={'countries_clean': 'production_country'})\n",
        "\n",
        "#drop original 'genres' column if no longer needed\n",
        "t_df=t_df.drop(columns=['production_countries'])\n",
        "\n",
        "# Now 'genre' column has one genre per row"
      ],
      "metadata": {
        "id": "bwu03nHV3qZI"
      },
      "execution_count": null,
      "outputs": []
    },
    {
      "cell_type": "code",
      "source": [
        "t_df=t_df.loc[:,~t_df.columns.duplicated()]"
      ],
      "metadata": {
        "collapsed": true,
        "id": "7fZAER5FtX7X"
      },
      "execution_count": null,
      "outputs": []
    },
    {
      "cell_type": "code",
      "source": [
        "t_df.info()"
      ],
      "metadata": {
        "collapsed": true,
        "id": "2XcfZrlwvc4Q"
      },
      "execution_count": null,
      "outputs": []
    },
    {
      "cell_type": "code",
      "source": [
        "c_df.head()"
      ],
      "metadata": {
        "collapsed": true,
        "id": "NuAbheVW8MhW"
      },
      "execution_count": null,
      "outputs": []
    },
    {
      "cell_type": "code",
      "source": [
        "#merging Titles and Credits Table\n",
        "df=pd.merge(t_df,c_df,how='inner',on='id')"
      ],
      "metadata": {
        "id": "s0YfrxC07c_-"
      },
      "execution_count": null,
      "outputs": []
    },
    {
      "cell_type": "code",
      "source": [
        "#save merged table\n",
        "df.to_csv('merged_table.csv', index=False)"
      ],
      "metadata": {
        "id": "iC4wTYqST9WL"
      },
      "execution_count": null,
      "outputs": []
    },
    {
      "cell_type": "markdown",
      "source": [
        "### **Manipulations and Insights**"
      ],
      "metadata": {
        "id": "MSa1f5Uengrz"
      }
    },
    {
      "cell_type": "markdown",
      "source": [
        "\n",
        "1.   Columns Genres and Production_countries are exploded because grouped data was present which is difficult to analyse.\n",
        "2. Titles and Credits are merged for proper subsetting and deduplication in order to visualize the data properly.\n",
        "3. Columns like Characters and Person id are removed because they hold low relevance in light of the problem statement.\n",
        "\n"
      ],
      "metadata": {
        "id": "LbyXE7I1olp8"
      }
    },
    {
      "cell_type": "markdown",
      "source": [
        "## ***4. Data Vizualization, Storytelling & Experimenting with charts : Understand the relationships between variables***"
      ],
      "metadata": {
        "id": "GF8Ens_Soomf"
      }
    },
    {
      "cell_type": "markdown",
      "source": [
        "**BAR PLOT CHART -** **Genre-wise distribution of Movies and TV Shows**"
      ],
      "metadata": {
        "id": "0wOQAZs5pc--"
      }
    },
    {
      "cell_type": "code",
      "source": [
        "#drop duplicates\n",
        "df_cleaned = df[['id', 'genre', 'type']].drop_duplicates()\n",
        "#group data based on genre and type of content\n",
        "genre_counts = df_cleaned.groupby(['genre', 'type']).size().reset_index(name='count')\n",
        "\n",
        "#Bar Plot ()\n",
        "plt.figure(figsize=(12, 6))\n",
        "sns.barplot(data=genre_counts, x='genre', y='count', hue='type')\n",
        "plt.title('Genre-wise Distribution of Movies and TV Shows')\n",
        "plt.xlabel('Genre')\n",
        "plt.ylabel('Number of Titles')\n",
        "plt.xticks(rotation=45)\n",
        "plt.tight_layout()\n",
        "plt.show()\n"
      ],
      "metadata": {
        "id": "7v_ESjsspbW7",
        "collapsed": true
      },
      "execution_count": null,
      "outputs": []
    },
    {
      "cell_type": "markdown",
      "source": [
        "**Specific Chart Usage Purpose:**\n",
        "\n",
        "---\n",
        "Used bar chart to clearly compare the genre wise distribution of movie titles on the platform.\n",
        "\n"
      ],
      "metadata": {
        "id": "t56Dz18c0DMu"
      }
    },
    {
      "cell_type": "markdown",
      "source": [
        "##### **OBSERVATIONS**"
      ],
      "metadata": {
        "id": "lQ7QKXXCp7Bj"
      }
    },
    {
      "cell_type": "markdown",
      "source": [
        "1) Genres like Drama, Comedy, Thriller. Action and Romance have the highest number of titles.\n",
        "\n",
        "2) TV shows tend to dominate in genres like Animation and Reality Shows, while movies are significantly more prevalent in all other top genres like drama, action, comedy,etc.\n",
        "\n",
        "3) Remarkable quantity of Drama genre content is available on the platform.\n",
        "\n",
        "\n"
      ],
      "metadata": {
        "id": "C_j1G7yiqdRP"
      }
    },
    {
      "cell_type": "markdown",
      "source": [
        "##### **INTERPRETATIONS**\n"
      ],
      "metadata": {
        "id": "448CDAPjqfQr"
      }
    },
    {
      "cell_type": "markdown",
      "source": [
        "1) Prominence of animation and reality genres in TV Show Format signifies the audience prefer to consume episodic content in these genres.\n",
        "\n",
        "2) The variety of content is mostly concentrated towards movies in the drama, comedy and thriller genres. Niche variety of genres like Animation, Reality Sci-Fi lack presence on the platform.  \n",
        "3) TV Shows are limited to a select few genres and are significatly less than\n",
        "movies."
      ],
      "metadata": {
        "id": "3cspy4FjqxJW"
      }
    },
    {
      "cell_type": "markdown",
      "source": [
        "**CONCLUSIONS**\n",
        "\n",
        "\n",
        "1.   Diversifying content and targeting niche genres might help reach a larger group of audience.\n",
        "2.   Content in major genres like Drama, Action and Comedy should be put out more selectively focusing on the quality of the product.\n",
        "\n",
        "\n",
        "\n"
      ],
      "metadata": {
        "id": "FqNrW72UZXUU"
      }
    },
    {
      "cell_type": "markdown",
      "source": [
        "**LINE PLOT CHART - Top 5 Genres Trend Over Years on Amazon Prime after 2000**"
      ],
      "metadata": {
        "id": "2YXJ3xg7cF7H"
      }
    },
    {
      "cell_type": "code",
      "source": [
        "# Keep only relevant columns and drop duplicates\n",
        "genre_year_df = df[['id', 'genre', 'release_year']].drop_duplicates()\n",
        "\n",
        "# Drop missing years or genres\n",
        "genre_year_df = genre_year_df.dropna(subset=['genre', 'release_year'])\n",
        "# Count total number of shows/movies per genre\n",
        "top_genres = (\n",
        "    genre_year_df['genre']\n",
        "    .value_counts()\n",
        "    .head(5)\n",
        "    .index\n",
        "    .tolist()\n",
        ")\n",
        "# Filter for only those top 5 genres\n",
        "top_genre_df = genre_year_df[genre_year_df['genre'].isin(top_genres)]\n",
        "genre_trend = (\n",
        "    top_genre_df\n",
        "    .groupby(['release_year', 'genre'])\n",
        "    .size()\n",
        "    .reset_index(name='count')\n",
        ")\n",
        "\n",
        "\n"
      ],
      "metadata": {
        "id": "R4YgtaqtYklH"
      },
      "execution_count": null,
      "outputs": []
    },
    {
      "cell_type": "code",
      "source": [
        "#filter for only content released after 2000\n",
        "\n",
        "genre_trend = genre_trend[genre_trend['release_year'] >= 2000]"
      ],
      "metadata": {
        "id": "hvjcBd5jSA9a"
      },
      "execution_count": null,
      "outputs": []
    },
    {
      "cell_type": "code",
      "source": [
        "plt.figure(figsize=(12, 6))\n",
        "sns.lineplot(\n",
        "    data=genre_trend,\n",
        "    x='release_year',\n",
        "    y='count',\n",
        "    hue='genre',\n",
        "    marker='o'\n",
        ")\n",
        "\n",
        "plt.title('Top 5 Genres Trend Over Years on Amazon Prime after 2000')\n",
        "plt.xlabel('Release Year')\n",
        "plt.ylabel('Number of Titles')\n",
        "plt.xticks(rotation=45)\n",
        "plt.legend(title='Genre')\n",
        "plt.tight_layout()\n",
        "plt.show()"
      ],
      "metadata": {
        "collapsed": true,
        "id": "RX3QlRWrRcbN"
      },
      "execution_count": null,
      "outputs": []
    },
    {
      "cell_type": "markdown",
      "source": [
        "**Specific Chart Usage Purpose:**\n",
        "\n",
        "---\n",
        "Used Line chart to clearly observe the trend in release of categories of content.\n",
        "\n"
      ],
      "metadata": {
        "id": "-t8lwfcEzBtv"
      }
    },
    {
      "cell_type": "markdown",
      "source": [
        "**OBSERVATIONS:**\n",
        "\n",
        "1.   Content release in all the top genres peaked before 2020.\n",
        "2.   Content release in all the top genres has seen a steep increase and has never seen a dip until 2020.\n",
        "\n"
      ],
      "metadata": {
        "id": "A8KIXNxvcsaw"
      }
    },
    {
      "cell_type": "markdown",
      "source": [
        "**INTERPRETATIONS**\n",
        "\n",
        "\n",
        "1. Since the beginning of COVID era, content release on the platform has seen a decline.\n",
        "2. Movies and TV Shows in these top 5 dominant genres has seen a rise over a period of time which indicates a strong demand for this type of content.\n",
        "\n"
      ],
      "metadata": {
        "id": "-GljMD7XdtOc"
      }
    },
    {
      "cell_type": "markdown",
      "source": [
        "**CONCLUSIONS**\n",
        "\n",
        "\n",
        "1. More and fresh content needs to be released in the post-pandemic era to keep the platform relevant to the audience.\n",
        "2. The business needs to cater to the audience demand for certain genres of movies to keep making profit from this business model.\n",
        "\n"
      ],
      "metadata": {
        "id": "p9BYzD0hewIN"
      }
    },
    {
      "cell_type": "markdown",
      "source": [
        "#### **BAR PLOT CHART - Average IMDb and TMDB Scores for Top 5 Genres**"
      ],
      "metadata": {
        "id": "EM7whBJCYoAo"
      }
    },
    {
      "cell_type": "code",
      "source": [
        "\n",
        "\n",
        "#  Drop duplicates to avoid score inflation\n",
        "df_clean = df[['id', 'genre', 'imdb_score', 'tmdb_score']].drop_duplicates()\n",
        "\n",
        "#  Get top 5 genres by count\n",
        "top_genres = df_clean['genre'].value_counts().head(5).index.tolist()\n",
        "\n",
        "# Filter only top 5 genres\n",
        "top_genres_df = df_clean[df_clean['genre'].isin(top_genres)]\n",
        "\n",
        "# Calculate average scores per genre\n",
        "avg_scores = top_genres_df.groupby('genre')[['imdb_score', 'tmdb_score']].mean().reset_index()\n",
        "\n",
        "# Melt for easier plotting with seaborn\n",
        "avg_scores_melted = avg_scores.melt(id_vars='genre', value_vars=['imdb_score', 'tmdb_score'],\n",
        "                                    var_name='Score_Type', value_name='Average_Score')\n",
        "\n",
        "# Plot\n",
        "plt.figure(figsize=(10,6))\n",
        "ax=sns.barplot(data=avg_scores_melted, x='genre', y='Average_Score', hue='Score_Type')\n",
        "# Add labels on top of each bar\n",
        "for p in ax.patches:\n",
        "    height = p.get_height()\n",
        "    ax.text(\n",
        "        x=p.get_x() + p.get_width() / 2,\n",
        "        y=height + 0.05,\n",
        "        s=f'{height:.2f}',\n",
        "        ha='center',\n",
        "        va='bottom',\n",
        "        fontsize=9,\n",
        "        fontweight='bold'\n",
        "    )\n",
        "plt.title('Average IMDb and TMDB Scores for Top 5 Genres')\n",
        "plt.xlabel('Genre')\n",
        "plt.ylabel('Average Score')\n",
        "plt.xticks(rotation=45)\n",
        "plt.tight_layout()\n",
        "plt.show()\n",
        "\n",
        "\n"
      ],
      "metadata": {
        "id": "t6GMdE67YoAp"
      },
      "execution_count": null,
      "outputs": []
    },
    {
      "cell_type": "markdown",
      "source": [
        "**Specific Chart Usage Purpose:**\n",
        "\n",
        "---\n",
        "Used bar chart to clearly compare Average IMDb and TMDB Scores for Top 5 Genres on the platform\n",
        "\n"
      ],
      "metadata": {
        "id": "2XEjjYo80k34"
      }
    },
    {
      "cell_type": "markdown",
      "source": [
        "**OBSERVATIONS**\n",
        "\n",
        "\n",
        "1. Movies and TV Shows in the **Drama** genre are the most highly rated by the users on IMDB and TMDB.\n",
        "2. Average ratings in all the top genres are mostly in the range between **5-6** in both IMDB and TMDB.\n",
        "\n"
      ],
      "metadata": {
        "id": "C3yLkNuRg9X-"
      }
    },
    {
      "cell_type": "markdown",
      "source": [
        "**INTERPRETATIONS**\n",
        "\n",
        "\n",
        "1.   There is a consistent quality maintained in the Movies and TV Shows release on the platform which is **appreciated** by the audience.  \n",
        "2. Despite significantly **less number of TV Shows** (compared to the movies) released on the platform, they receive **great feedback** in terms of quality from the viewers.\n",
        "\n"
      ],
      "metadata": {
        "id": "YKxn6gsKhym2"
      }
    },
    {
      "cell_type": "markdown",
      "source": [
        "**Conclusions**\n",
        "\n",
        "1. TV Shows needs to be released in more quantity to increase viewership and hence, profitability.\n"
      ],
      "metadata": {
        "id": "8G1hKyyBhzEB"
      }
    },
    {
      "cell_type": "markdown",
      "source": [
        "#### **BAR PLOT CHART - Top 10 Country-wise distribution of Movies/ TV Shows**"
      ],
      "metadata": {
        "id": "4Of9eVA-YrdM"
      }
    },
    {
      "cell_type": "code",
      "source": [
        "#production_country_names labelling and mapping (top 10)\n",
        "country_labels = {\n",
        "    \"'US'\": 'United States',\n",
        "    \"'GB'\": 'United Kingdom',\n",
        "    \"'IN'\": 'India',\n",
        "    \"'FR'\": 'France',\n",
        "    \"'CA'\": 'Canada',\n",
        "    \"'JP'\": 'Japan',\n",
        "    \"'DE'\": 'Germany',\n",
        "    \"'IT'\": 'Italy',\n",
        "    \"'ES'\": 'Spain',\n",
        "    \"'CN'\": 'China'\n",
        "}\n"
      ],
      "metadata": {
        "collapsed": true,
        "id": "N-NWmQapDdMG"
      },
      "execution_count": null,
      "outputs": []
    },
    {
      "cell_type": "code",
      "source": [
        "df_cleaned = df[['id', 'production_country', 'type']].drop_duplicates()\n",
        "# Drop missing countries\n",
        "df_cleaned=df_cleaned.dropna(subset=['production_country'])\n",
        "#  Get top 10 countries by count\n",
        "top_countries = df_cleaned['production_country'].value_counts().head(10).index.tolist()\n",
        "# Filter only top 10 countries\n",
        "top_countries_df = df_cleaned[df_cleaned['production_country'].isin(top_countries)]\n",
        "\n",
        "country_counts = top_countries_df.groupby(['production_country', 'type']).size().reset_index(name='count')\n",
        "country_counts['country_name'] = country_counts['production_country'].map(country_labels)\n",
        "country_counts=country_counts.sort_values(by=['count'],ascending=False)\n",
        "\n",
        "plt.figure(figsize=(12, 6))\n",
        "ax=sns.barplot(data=country_counts, x='country_name', y='count', hue='type')\n",
        "# Add labels on top of each bar\n",
        "for p in ax.patches:\n",
        "    height = p.get_height()\n",
        "    ax.text(\n",
        "        x=p.get_x() + p.get_width() / 2,\n",
        "        y=height + 0.05,\n",
        "        s=f'{height:.2f}',  # format to 2 decimal places\n",
        "        ha='center',\n",
        "        va='bottom',\n",
        "        fontsize=9,\n",
        "        fontweight='bold'\n",
        "    )\n",
        "plt.title('Distribution of Movies and TV Shows in Top  Countries')\n",
        "plt.xlabel('Country')\n",
        "plt.ylabel('Number of Titles')\n",
        "plt.xticks(rotation=45)\n",
        "plt.tight_layout()\n",
        "plt.show()\n"
      ],
      "metadata": {
        "id": "irlUoxc8YrdO",
        "collapsed": true
      },
      "execution_count": null,
      "outputs": []
    },
    {
      "cell_type": "markdown",
      "source": [
        "**Specific Chart Usage Purpose:**\n",
        "\n",
        "---\n",
        "Used bar chart to clearly compare distribution of titles in top 10 content producing countries\n",
        "\n"
      ],
      "metadata": {
        "id": "lat3N0RR1Izk"
      }
    },
    {
      "cell_type": "markdown",
      "source": [
        "**OBSERVATIONS**\n",
        "\n",
        "\n",
        "1.   USA has the most amount of movies/tv shows produced which is significatly higher than the other countries.\n",
        "2. USA is followed by India and UK in terms of movie productions.\n",
        "3. Except for UK, other European countries in the list have a very low count in TV Show productions.\n",
        "\n"
      ],
      "metadata": {
        "id": "NDk8DFEnkqso"
      }
    },
    {
      "cell_type": "markdown",
      "source": [
        "**INTERPRETATIONS**\n",
        "\n",
        "\n",
        "1. USA is the **most productive market** in the content producing business.\n",
        "2. Countries like **India, Canada, China and Japan** have a lot of **untaped potential** and opportunity in the form of **regional cinema.**\n",
        "3. Demand in TV Shows in **regional languages** is comparatively less especially in Europe.\n",
        "\n"
      ],
      "metadata": {
        "id": "yggoT6Q3lk_U"
      }
    },
    {
      "cell_type": "markdown",
      "source": [
        "**CONCLUSIONS**\n",
        "\n",
        "1. Focus on regional content diversification should be shifted towards Asian countries like India, Japan and China especially for the tv show category.\n",
        "\n",
        "2. In the movies category, USA followed by UK, India and Canada have profitable markets.\n",
        "3. **Regional language based content** is on the rise and has a booming future.\n",
        "\n",
        "\n"
      ],
      "metadata": {
        "id": "62oaTAX6nIM9"
      }
    },
    {
      "cell_type": "markdown",
      "source": [
        "#### **BAR CHART- Average IMDb and TMDB Scores for Top 10 Content producing Countries**"
      ],
      "metadata": {
        "id": "bamQiAODYuh1"
      }
    },
    {
      "cell_type": "code",
      "source": [
        "#  Drop duplicates to avoid score inflation\n",
        "df_clean = df[['id', 'production_country', 'imdb_score', 'tmdb_score']].drop_duplicates()\n",
        "\n",
        "#  Get top 10 country by count\n",
        "top_countries = df_clean['production_country'].value_counts().head(10).index.tolist()\n",
        "\n",
        "# Filter only top 10 country\n",
        "top_countries_df = df_clean[df_clean['production_country'].isin(top_countries)]\n",
        "\n",
        "# Calculate average scores per country\n",
        "avg_scores = top_countries_df.groupby('production_country')[['imdb_score', 'tmdb_score']].mean().reset_index()\n",
        "avg_scores['country_name'] = avg_scores['production_country'].map(country_labels)\n",
        "# Melt for easier plotting with seaborn\n",
        "avg_scores_melted = avg_scores.melt(id_vars='country_name', value_vars=['imdb_score', 'tmdb_score'],\n",
        "                                    var_name='Score_Type', value_name='Average_Score')\n",
        "\n",
        "#  Plot\n",
        "plt.figure(figsize=(10,6))\n",
        "ax=sns.barplot(data=avg_scores_melted, x='country_name', y='Average_Score', hue='Score_Type')\n",
        "# Add labels on top of each bar\n",
        "for p in ax.patches:\n",
        "    height = p.get_height()\n",
        "    ax.text(\n",
        "        x=p.get_x() + p.get_width() / 2,\n",
        "        y=height + 0.05,\n",
        "        s=f'{height:.2f}',\n",
        "        ha='center',\n",
        "        va='bottom',\n",
        "        fontsize=9,\n",
        "        fontweight='bold'\n",
        "    )\n",
        "plt.title('Average IMDb and TMDB Scores for Top 10 Content producing Countries')\n",
        "plt.xlabel('Country')\n",
        "plt.ylabel('Average Score')\n",
        "plt.xticks(rotation=45)\n",
        "plt.tight_layout()\n",
        "plt.show()"
      ],
      "metadata": {
        "id": "TIJwrbroYuh3"
      },
      "execution_count": null,
      "outputs": []
    },
    {
      "cell_type": "markdown",
      "source": [
        "**Specific Chart Usage Purpose:**\n",
        "\n",
        "---\n",
        "Used bar chart to clearly compare Average IMDb and TMDB Scores for Top 10 Content producing Countries.\n",
        "\n"
      ],
      "metadata": {
        "id": "obJajku-1fJV"
      }
    },
    {
      "cell_type": "markdown",
      "source": [
        "**OBSERVATIONS**\n",
        "\n",
        "\n",
        "1. Movies and TV Shows produced in **China and Japan** have high ratings from the users at both IMDB and TMDB.\n",
        "2. Ratings have not fallen **below 5.7** among any of the top content producing countries.\n",
        "3. USA has a comparatively lower average rating.\n"
      ],
      "metadata": {
        "id": "Z3fa6sjfpdYT"
      }
    },
    {
      "cell_type": "markdown",
      "source": [
        "**INTERPRETATIONS**\n",
        "\n",
        "1. Quality of regional content produced in China and Japan is remarkably good. Even in other Asian countries like India, regional content dominates.  \n",
        "2. Consistently decent quality movies and tv shows are put out in top content producing countries.\n",
        "3. Due to a high production market in USA, a variety of content is being produced which can be a reason for a comparatively lower average.\n",
        "\n"
      ],
      "metadata": {
        "id": "h5a4S_0cq1oE"
      }
    },
    {
      "cell_type": "markdown",
      "source": [
        "**CONCLUSIONS**\n",
        "\n",
        "1. Regional business investment in Asian countries like India, China and Japan is a great choice evidently.\n",
        "2. Countries like USA where many Movies and TV shows are being made, selective content with higher quality should be chosen for investment.\n",
        "3. Regional language based movies in European countries is a good market to invest in."
      ],
      "metadata": {
        "id": "C_El9krLsN0m"
      }
    },
    {
      "cell_type": "markdown",
      "source": [
        "#### **HEATMAP - Genre vs Country (Top 10 Production Countries)**"
      ],
      "metadata": {
        "id": "OH-pJp9IphqM"
      }
    },
    {
      "cell_type": "code",
      "source": [
        "# Count top 10 countries\n",
        "top_countries = df['production_country'].value_counts().head(10).index\n",
        "\n",
        "# Filter only those\n",
        "filtered_df = df[df['production_country'].isin(top_countries)]\n",
        "\n",
        "filtered_df = filtered_df.drop_duplicates(subset=['id', 'genre', 'production_country'])\n",
        "\n",
        "genre_country_counts = (\n",
        "    filtered_df.groupby(['production_country', 'genre'])\n",
        "    .size()\n",
        "    .reset_index(name='count')\n",
        ")\n",
        "genre_country_counts['country_name'] = genre_country_counts['production_country'].map(country_labels)\n",
        "\n"
      ],
      "metadata": {
        "id": "kuRf4wtuphqN"
      },
      "execution_count": null,
      "outputs": []
    },
    {
      "cell_type": "code",
      "source": [
        "pivot_table = genre_country_counts.pivot(\n",
        "    index='country_name', columns='genre', values='count'\n",
        ").fillna(0)\n",
        "\n",
        "plt.figure(figsize=(12, 6))\n",
        "sns.heatmap(pivot_table, annot=True, fmt='g', cmap='YlGnBu')\n",
        "plt.title('Genre vs Country (Top 10 Production Countries)')\n",
        "plt.xlabel('Genre')\n",
        "plt.ylabel('Production Country')\n",
        "plt.tight_layout()\n",
        "plt.show()"
      ],
      "metadata": {
        "id": "WuBGINbqooI1"
      },
      "execution_count": null,
      "outputs": []
    },
    {
      "cell_type": "markdown",
      "source": [
        "**Specific Chart Usage Purpose:**\n",
        "\n",
        "---\n",
        "Used Scatter chart to clearly observe genre wise distribution in top content producing countries\n"
      ],
      "metadata": {
        "id": "evewJgyn1z2I"
      }
    },
    {
      "cell_type": "markdown",
      "source": [
        "**OBSERVATIONS**\n",
        "\n",
        "1. USA has a significantly **higher number** of movies/tv shows produced in **every genre** compared to all the other countries in the list.\n",
        "2. Second to USA is UK and relatively close to UK is India. UK has a decent number in almost every genre.\n",
        "3. India has significant number of productions only in top genres like drama, action, comedy, etc. India has low numbers in **niche genres**.\n",
        "4. **Reality genre** which mainly consists of reality tv shows has an almost negligible presence in top content producing countries.\n",
        "5. **Family genre** has also seen low numbers on almost all countries.\n",
        "6. Genres like **Animation, Sci-Fi, Sports** are also severely underrepresented."
      ],
      "metadata": {
        "id": "i9WfWEM7uFMU"
      }
    },
    {
      "cell_type": "markdown",
      "source": [
        "**INTERPRETATIONS**\n",
        "\n",
        "1. US market mainly consisting of english language content is decently present in every genre.\n",
        "2. Regional content producing markets like India, Japan, China, Germany, Italy, etc. requires content varieties involving niche genres like Animation, Sci-Fi, Sports, Reality,etc.\n",
        "3. There is a lack of family based content on the platform from many top countries.\n",
        "4. TV Show category where sitcom style episodic content has a great demand that is not met especially in regional languages.\n",
        "\n"
      ],
      "metadata": {
        "id": "CtqkqkcfzBzM"
      }
    },
    {
      "cell_type": "markdown",
      "source": [
        "**CONCLUSIONS**\n",
        "\n",
        "1. The USA remains the content powerhouse, and further strategic partnerships or licensing deals can strengthen market dominance and genre variety.\n",
        "2. In order to gain a spectrum of audience consuming regional language based content, a strong variety of movies and tv shows must be introduced on the platform for better audience engagement.\n",
        "3. Strong focus should be given to family based content for wider audience recognition especially in Asian countries.\n",
        "\n"
      ],
      "metadata": {
        "id": "ys3b1tJa1Ogk"
      }
    },
    {
      "cell_type": "markdown",
      "source": [
        "#### **BAR PLOT CHART - Age Certification Distribution**"
      ],
      "metadata": {
        "id": "BZR9WyysphqO"
      }
    },
    {
      "cell_type": "code",
      "source": [
        "# Mapping age certification codes to full forms\n",
        "rating_labels = {\n",
        "    'G': 'G - General',\n",
        "    'PG': 'PG - Parental Guidance',\n",
        "    'PG-13': 'PG-13 - Parents Strongly Cautioned',\n",
        "    'R': 'R - Restricted',\n",
        "    'NC-17': 'NC-17 - Adults Only',\n",
        "    'TV-Y': 'TV-Y - All Children',\n",
        "    'TV-Y7': 'TV-Y7 - 7+ Years',\n",
        "    'TV-G': 'TV-G - General Audience',\n",
        "    'TV-PG': 'TV-PG - Parental Guidance',\n",
        "    'TV-14': 'TV-14 - 14+ Years',\n",
        "    'TV-MA': 'TV-MA - Mature Audience'\n",
        "}"
      ],
      "metadata": {
        "id": "DT_BK1VyC6vQ"
      },
      "execution_count": null,
      "outputs": []
    },
    {
      "cell_type": "code",
      "source": [
        "\n",
        "# Filter non-null age certifications\n",
        "age_df = df[df['age_certification'].notnull()]\n",
        "age_df=age_df[['id','age_certification']].drop_duplicates()\n",
        "grouped_by_age = age_df.groupby('age_certification').size().reset_index(name='count')\n",
        "grouped_by_age['full_cert'] = grouped_by_age['age_certification'].map(rating_labels)\n",
        "# Sort by count in descending order\n",
        "grouped_by_age = grouped_by_age.sort_values(by='count', ascending=False)\n",
        "\n",
        "plt.figure(figsize=(12, 6))\n",
        "ax=sns.barplot(data=grouped_by_age, x='full_cert', y='count')\n",
        "# Add labels on top of each bar\n",
        "for p in ax.patches:\n",
        "    height = p.get_height()\n",
        "    ax.text(\n",
        "        x=p.get_x() + p.get_width() / 2,\n",
        "        y=height + 0.05,\n",
        "        s=f'{height:.2f}',  # format to 2 decimal places\n",
        "        ha='center',\n",
        "        va='bottom',\n",
        "        fontsize=9,\n",
        "        fontweight='bold'\n",
        "    )\n",
        "plt.title('Age Certification Distribution')\n",
        "plt.xlabel('Age Certifications')\n",
        "plt.ylabel('Number of Titles')\n",
        "plt.xticks(rotation=45)\n",
        "plt.tight_layout()\n",
        "plt.show()"
      ],
      "metadata": {
        "id": "TdPTWpAVphqO"
      },
      "execution_count": null,
      "outputs": []
    },
    {
      "cell_type": "markdown",
      "source": [
        "**Specific Chart Usage Purpose:**\n",
        "\n",
        "---\n",
        "Used bar chart to clearly compare age certification data distribution over the available content on the platform.\n"
      ],
      "metadata": {
        "id": "VZjmN1Tq2Kod"
      }
    },
    {
      "cell_type": "markdown",
      "source": [
        "**OBSERVATIONS**\n",
        "\n",
        "1. Restricted and PG13 content covers a major porton of the content type available on the platform.\n",
        "2. Children content with TV-Y and TV-Y7 certifications is significantly fewer in number.\n"
      ],
      "metadata": {
        "id": "UxZy7plS6AoF"
      }
    },
    {
      "cell_type": "markdown",
      "source": [
        "**INTERPRETATIONS**\n",
        "\n",
        "\n",
        "1.  Massive availability of R-rated and PG13 content suggests the target audience on the platform is mainly teenagers and adults.\n",
        "2. Lack of children content and family friendly content evidently singifies the market gap in children entertainment.\n",
        "\n"
      ],
      "metadata": {
        "id": "P4V39gHX7hW7"
      }
    },
    {
      "cell_type": "markdown",
      "source": [
        "**CONCLUSIONS**\n",
        "\n",
        "1. To diversify the content portfolio and to attract younger audience, a decent suppy of family friendly content is required.\n",
        "2. Platform prioritizes teen and adult content, aligning with the most active and profitable demographics.\n",
        "\n"
      ],
      "metadata": {
        "id": "sMSKcfoC9B94"
      }
    },
    {
      "cell_type": "markdown",
      "source": [
        "#### **LINE PLOT CHART - TV Shows vs Movies Over Time**"
      ],
      "metadata": {
        "id": "YJ55k-q6phqO"
      }
    },
    {
      "cell_type": "code",
      "source": [
        "df_clean=df[['id','release_year','type']].drop_duplicates()\n",
        "df_grouped = df_clean.groupby(['release_year', 'type']).size().reset_index(name='count')\n",
        "df_grouped=df_grouped[df_grouped['release_year']>=2000]\n",
        "plt.figure(figsize=(12, 6))\n",
        "sns.lineplot(data=df_grouped, x='release_year', y='count', hue='type')\n",
        "plt.title('TV Shows vs Movies Over Time')\n",
        "plt.xlabel('Release Year')\n",
        "plt.ylabel('Count')\n",
        "plt.show()"
      ],
      "metadata": {
        "id": "B2aS4O1ophqO",
        "collapsed": true
      },
      "execution_count": null,
      "outputs": []
    },
    {
      "cell_type": "markdown",
      "source": [
        "OBSERVATIONS\n",
        "1. Since 2000s, TV Show release has not seen a significant rise on the platform.\n",
        "2. Movies availability on the platform have seen a drastic rise after 2010."
      ],
      "metadata": {
        "id": "4qvUF6AQiuxN"
      }
    },
    {
      "cell_type": "markdown",
      "source": [
        "**INTERPRETATIONS**\n",
        "\n",
        "1. TV Shows have not engaged audience over the years due to a lack of content in this category.\n",
        "2. TV Shows are generally family friendly have a decent family audience base which is missing from the platform due to lack of content in this category."
      ],
      "metadata": {
        "id": "z-T8MZQXjGHV"
      }
    },
    {
      "cell_type": "markdown",
      "source": [
        "**CONCLUSIONS**\n",
        "\n",
        "1. TV show content rise can bring in younger audience as well as families who love to enjoy good content together.\n",
        "2. Variety in this category can lead to new business deals both regional and international.\n",
        "3. Many TV shows wants to shift from TV to OTT and the market is open for deals."
      ],
      "metadata": {
        "id": "KrxFeKB0kXHO"
      }
    },
    {
      "cell_type": "markdown",
      "source": [
        "#### **BAR PLOT CHART - Average IMDb and TMDB Scores for TV Shows and Movies**"
      ],
      "metadata": {
        "id": "U2RJ9gkRphqQ"
      }
    },
    {
      "cell_type": "code",
      "source": [
        "#  Drop duplicates to avoid score inflation\n",
        "df_clean = df[['type','imdb_score','tmdb_score']].drop_duplicates()\n",
        "\n",
        "# Calculate average scores per type\n",
        "avg_scores = df_clean.groupby('type')[['imdb_score', 'tmdb_score']].mean().reset_index()\n",
        "\n",
        "# Melt for easier plotting with seaborn\n",
        "avg_scores_melted = avg_scores.melt(id_vars='type', value_vars=['imdb_score', 'tmdb_score'],\n",
        "                                    var_name='Score_Type', value_name='Average_Score')\n",
        "\n",
        "# 6. Plot\n",
        "plt.figure(figsize=(10,6))\n",
        "ax=sns.barplot(data=avg_scores_melted, x='type', y='Average_Score', hue='Score_Type')\n",
        "# Add labels on top of each bar\n",
        "for p in ax.patches:\n",
        "    height = p.get_height()\n",
        "    ax.text(\n",
        "        x=p.get_x() + p.get_width() / 2,\n",
        "        y=height + 0.05,\n",
        "        s=f'{height:.2f}',  # format to 2 decimal places\n",
        "        ha='center',\n",
        "        va='bottom',\n",
        "        fontsize=9,\n",
        "        fontweight='bold'\n",
        "    )\n",
        "plt.title('Average IMDb and TMDB Scores for TV Shows and Movies')\n",
        "plt.xlabel('Type')\n",
        "plt.ylabel('Average Score')\n",
        "plt.xticks(rotation=45)\n",
        "plt.tight_layout()\n",
        "plt.show()"
      ],
      "metadata": {
        "id": "GM7a4YP4phqQ"
      },
      "execution_count": null,
      "outputs": []
    },
    {
      "cell_type": "markdown",
      "source": [
        "**Specific Chart Usage Purpose:**\n",
        "\n",
        "---\n",
        "Used bar chart to clearly compare IMDB and TMDB score for movies and tv shows.\n",
        "\n"
      ],
      "metadata": {
        "id": "3bgmszmQ2iu-"
      }
    },
    {
      "cell_type": "markdown",
      "source": [
        "**OBSERVATION**\n",
        "\n",
        "TV Shows have above 7 rating in both TMDB and IMDB."
      ],
      "metadata": {
        "id": "Rl5hI0jAgfpz"
      }
    },
    {
      "cell_type": "markdown",
      "source": [
        "**INTERPRETATION**\n",
        "\n",
        "Content available in Amazon Prime platform are largely movies and have much less TV Shows available.\n",
        "However the quality of content delivered by tv shows is better and highly appreciated by the users on IMDB and TMDB"
      ],
      "metadata": {
        "id": "7RKDmySkg4Df"
      }
    },
    {
      "cell_type": "markdown",
      "source": [
        "**CONCLUSION**\n",
        "\n",
        "There is a huge market gap that needs of be filled by a decent supply of fresh tv show content on the platform. This will popularise the platform and tremendously increase the viewership.\n",
        "TV Shows have episodic content which has the capability the engage viewers regularly and make Amazon subscribers stay for long on the platform."
      ],
      "metadata": {
        "id": "N6oCDwwkhc6e"
      }
    },
    {
      "cell_type": "markdown",
      "source": [
        "#### **BAR PLOT CHART - Top 3 creators/Artists on Amazon platform per country as per popularity and rating**"
      ],
      "metadata": {
        "id": "n3dbpmDWp1ck"
      }
    },
    {
      "cell_type": "code",
      "source": [
        "df.columns"
      ],
      "metadata": {
        "id": "hu9csPSmlD_c"
      },
      "execution_count": null,
      "outputs": []
    },
    {
      "cell_type": "code",
      "source": [
        "#  Drop duplicates to avoid score inflation\n",
        "df_clean = df[['id', 'production_country','name','imdb_score','tmdb_popularity','release_year']].drop_duplicates()\n",
        "\n",
        "#  Get top 10 country by count\n",
        "top_countries = df_clean['production_country'].value_counts().head(5).index.tolist()\n",
        "\n",
        "# Filter only top 10 country\n",
        "top_countries_df = df_clean[df_clean['production_country'].isin(top_countries)]\n",
        "top_countries_df['country_name'] = top_countries_df['production_country'].map(country_labels)\n",
        "\n",
        "\n",
        "\n",
        "\n",
        "\n",
        "\n"
      ],
      "metadata": {
        "id": "bwevp1tKp1ck"
      },
      "execution_count": null,
      "outputs": []
    },
    {
      "cell_type": "code",
      "source": [
        "\n",
        "actor_country = (\n",
        "    top_countries_df\n",
        "    .groupby(['country_name', 'name'])\n",
        "    .agg(imdb_mean=('imdb_score', 'mean'),\n",
        "         avg_tmdb=('tmdb_popularity', 'mean'))\n",
        "    .reset_index()\n",
        ")\n",
        "\n",
        "\n",
        "#  For each country, pick top 3 creators based on IMDb + TMDb average\n",
        "actor_country['score_mean'] = (actor_country['imdb_mean'] + actor_country['avg_tmdb']) / 2\n",
        "top_actors_per_country = actor_country.groupby('country_name').apply(\n",
        "    lambda x: x.sort_values('score_mean', ascending=False).head(3)\n",
        ").reset_index(drop=True)"
      ],
      "metadata": {
        "id": "rZv9nMmRsf0S"
      },
      "execution_count": null,
      "outputs": []
    },
    {
      "cell_type": "code",
      "source": [],
      "metadata": {
        "id": "0s19GBakThxo"
      },
      "execution_count": null,
      "outputs": []
    },
    {
      "cell_type": "code",
      "source": [
        "\n",
        "\n",
        "# Add a unique label per actor per country for spacing\n",
        "top_actors_per_country['country_actor'] = (\n",
        "    top_actors_per_country['country_name'] + ' - ' + top_actors_per_country.groupby('country_name').cumcount().add(1).astype(str)\n",
        ")\n",
        "\n",
        "plt.figure(figsize=(16, 6))\n",
        "sns.barplot(\n",
        "    data=top_actors_per_country,\n",
        "    x='country_actor',\n",
        "    y='score_mean',\n",
        "    hue='name',\n",
        "    dodge=False,\n",
        "    palette='tab10'\n",
        ")\n",
        "\n",
        "plt.title('Top 3 Creators/Artists in Top 5 Countries by IMDb & TMDb Popularity')\n",
        "plt.ylabel('Mean Score (IMDb + TMDb)')\n",
        "plt.xlabel('Country - Actor Rank')\n",
        "plt.xticks(rotation=45)\n",
        "plt.legend(title='Actor', bbox_to_anchor=(1.05, 1), loc='upper left')\n",
        "plt.tight_layout()\n",
        "plt.show()\n"
      ],
      "metadata": {
        "id": "_1C5ZNwOs-QO"
      },
      "execution_count": null,
      "outputs": []
    },
    {
      "cell_type": "markdown",
      "source": [
        "**Specific Chart Usage Purpose:**\n",
        "\n",
        "---\n",
        "Used bar chart to clearly compare mean score of IMDb and TMDB Scores in Top 5 Content producing Countries for their top 3 actors\n",
        "\n"
      ],
      "metadata": {
        "id": "H-WzLCKe25a9"
      }
    },
    {
      "cell_type": "markdown",
      "source": [
        "**OBSERVATIONS**\n",
        "\n",
        "1. Mean score based on IMDB Rating an TMDB popularity is calculated for top creators/artists on the platform country-wise.\n",
        "2. Top artists who worked in the USA market have significantly more popular movies rated highly than other artists on the platform.\n",
        "3. Indian artists have less rated movies as per IMDB and TMDB scores."
      ],
      "metadata": {
        "id": "Kv9DxQCvW4t_"
      }
    },
    {
      "cell_type": "markdown",
      "source": [
        "**INTERPRETATIONS**\n",
        "\n",
        "1. Regional creators as well as international creators mentioned here have movies/tv shows on Amazon that has been highly rated by IMDB Users.  \n",
        "2. Indian users have not actively rated the Indian content on these platforms.\n",
        "3. English language based content creators get significant popularity as evident in the USA ratings.\n",
        "3. Artist/creators associated with popular products eventually attracts broader viewer base.\n"
      ],
      "metadata": {
        "id": "Va5SkQ0Abdsb"
      }
    },
    {
      "cell_type": "markdown",
      "source": [
        "**CONCLUSIONS**\n",
        "\n",
        "1. IMDB and TMDB Scores vary with the user base of the country associated with the platform.\n",
        "2. Creators associated with the platform consistently putting out highly rated content can be given more work and casting opportunities in home productions of Amazon.\n",
        "3. English language based content especially from USA and UK have a way broader reach worldwide and is a stable market."
      ],
      "metadata": {
        "id": "n-zTyy_XekxZ"
      }
    },
    {
      "cell_type": "markdown",
      "source": [
        "#### **PIE CHART - Presence of age certification**"
      ],
      "metadata": {
        "id": "Ag9LCva-p1cl"
      }
    },
    {
      "cell_type": "code",
      "source": [
        "df['has_certification'].value_counts()"
      ],
      "metadata": {
        "id": "58ekicc3_T2Q"
      },
      "execution_count": null,
      "outputs": []
    },
    {
      "cell_type": "code",
      "source": [
        "#df_clean=df[['id','has_certification']].drop_duplicates()\n",
        "# Count values\n",
        "cert_counts = t_df['has_certification'].value_counts()\n",
        "\n",
        "# Labels for pie chart\n",
        "labels = ['No Certification', 'Has Age Certification']\n",
        "colors = ['#66b3ff', '#ff9999']\n",
        "\n",
        "# Plot pie chart\n",
        "plt.figure(figsize=(6, 6))\n",
        "plt.pie(cert_counts, labels=labels, autopct='%1.1f%%', startangle=140, colors=colors)\n",
        "plt.title('Proportion of Content with Age Certification')\n",
        "plt.axis('equal')  # Equal aspect ratio to make it a perfect circle\n",
        "plt.show()"
      ],
      "metadata": {
        "id": "EUfxeq9-p1cl"
      },
      "execution_count": null,
      "outputs": []
    },
    {
      "cell_type": "markdown",
      "source": [
        "**Specific Chart Usage Purpose:**\n",
        "\n",
        "---\n",
        "Used pie chart to clearly show the absence of age certification on majority of content available on the platform.\n"
      ],
      "metadata": {
        "id": "6gmUjpyR3MLe"
      }
    },
    {
      "cell_type": "markdown",
      "source": [
        "**OBSERVATION**\n",
        "\n",
        "There is a absence of age certifications  in nearly 59% content on the platform."
      ],
      "metadata": {
        "id": "7IrRd2Lf_AaS"
      }
    },
    {
      "cell_type": "markdown",
      "source": [
        "**INTERPRETATION**\n",
        "\n",
        "This major gap can lead to lack of parental control and weak recommendation system for the users"
      ],
      "metadata": {
        "id": "cZbqYnU0BeMw"
      }
    },
    {
      "cell_type": "markdown",
      "source": [
        "**CONCLUSION**\n",
        "1. To build trust with parents and regulators, platforms must standardize age ratings, especially for international or older content.\n",
        "\n",
        "2. Adding or updating missing certifications could improve search relevance, parental controls, and personalized recommendations."
      ],
      "metadata": {
        "id": "HcsNOkRIB33E"
      }
    },
    {
      "cell_type": "markdown",
      "source": [
        "####  **HISTOGRAM - Runtime Distribution**"
      ],
      "metadata": {
        "id": "NC_X3p0fY2L0"
      }
    },
    {
      "cell_type": "code",
      "source": [
        "\n",
        "df_clean=df[['id','runtime']].drop_duplicates()\n",
        "# Drop missing values\n",
        "runtimes = df_clean['runtime'].dropna()\n",
        "\n",
        "# Calculate Q1 and Q3\n",
        "Q1 = np.percentile(runtimes, 25)\n",
        "Q3 = np.percentile(runtimes, 75)\n",
        "IQR = Q3 - Q1\n",
        "\n",
        "# Define bounds\n",
        "lower_bound = Q1 - 1.5 * IQR\n",
        "upper_bound = Q3 + 1.5 * IQR\n",
        "\n",
        "# Detect outliers\n",
        "outliers = df_clean[(df_clean['runtime'] < lower_bound) | (df_clean['runtime'] > upper_bound)]\n",
        "print(f\"Number of outliers: {len(outliers)}\")"
      ],
      "metadata": {
        "id": "mVrevMTnFoIb"
      },
      "execution_count": null,
      "outputs": []
    },
    {
      "cell_type": "code",
      "source": [
        "\n",
        "plt.figure(figsize=(10, 6))\n",
        "sns.histplot(runtimes, bins=25, kde=True, color='lightblue', edgecolor='black')\n",
        "\n",
        "# Add vertical lines for bounds\n",
        "plt.axvline(lower_bound, color='red', linestyle='--', label='Lower Bound')\n",
        "plt.axvline(upper_bound, color='red', linestyle='--', label='Upper Bound')\n",
        "# Annotate the boundary values on x-axis\n",
        "plt.text(lower_bound, plt.ylim()[1]*0.9, f'{lower_bound:.1f}', color='red', ha='right')\n",
        "plt.text(upper_bound, plt.ylim()[1]*0.9, f'{upper_bound:.1f}', color='blue', ha='left')\n",
        "plt.legend()\n",
        "plt.title('Histogram with Outlier Bounds (IQR Method)')\n",
        "plt.xlabel('Runtime (minutes)')\n",
        "plt.ylabel('Number of Titles')\n",
        "plt.grid(axis='y', alpha=0.75)\n",
        "plt.show()"
      ],
      "metadata": {
        "id": "xyC9zolEZNRQ"
      },
      "execution_count": null,
      "outputs": []
    },
    {
      "cell_type": "markdown",
      "source": [
        "**Specific Chart Usage Purpose:**\n",
        "\n",
        "---\n",
        "Used histogram to clearly analyse the run time distribution for the avalable content.\n",
        "\n"
      ],
      "metadata": {
        "id": "GuIE5lqk3aHJ"
      }
    },
    {
      "cell_type": "markdown",
      "source": [
        "**OBSERVATIONS**\n",
        "\n",
        "1. Runtime of tv shows and movies vary significantly from 10-20 minutes ranging upto 3 hours.\n",
        "2. Majority of content runtimes lie close to 2 hours.\n",
        "3. Content less than approximately 33 mintues and content greater than 145 minutes can be considered **outliers**.\n",
        "\n"
      ],
      "metadata": {
        "id": "t7uRVe_dC7sz"
      }
    },
    {
      "cell_type": "markdown",
      "source": [
        "**INTERPRETATIONS**\n",
        "1. The content availability on the platform is majorly movies with 1.5 to 2 hour denoting long format content.\n",
        "2. Lack of short form content suggest audience mainly perfer binge watching movies and web series on the platform.\n",
        "3. TV Show content with shorter length content is less available."
      ],
      "metadata": {
        "id": "tlWMzUV2HX3w"
      }
    },
    {
      "cell_type": "markdown",
      "source": [
        "**CONCLUSIONS**\n",
        "\n",
        "1.   Movie production house partnerships and investment in long format content is a strategic move.\n",
        "2. Short format content needs to be explored more for better audience reach specifically children who have a shorten attention span compared to adults\n",
        "\n"
      ],
      "metadata": {
        "id": "yMwb1L0RISz-"
      }
    },
    {
      "cell_type": "markdown",
      "source": [
        "#### **Runtime vs IMDb and TMDb Scores - Pair Plot**"
      ],
      "metadata": {
        "id": "q29F0dvdveiT"
      }
    },
    {
      "cell_type": "code",
      "source": [
        "\n",
        "\n",
        "#Remove duplicates — keep only one row per unique 'id'\n",
        "df_clean = df[['id', 'runtime', 'imdb_score', 'tmdb_score']].drop_duplicates(subset='id')\n",
        "\n",
        "#Drop rows with missing values in relevant columns\n",
        "df_clean = df_clean.dropna(subset=['runtime', 'imdb_score', 'tmdb_score'])\n",
        "\n",
        "#Plot pairplot\n",
        "sns.pairplot(df_clean[['runtime', 'imdb_score', 'tmdb_score']], diag_kind='kde', plot_kws={'alpha': 0.6})\n",
        "plt.suptitle(\"Pairplot: Runtime vs IMDb and TMDb Scores\", y=1.02)\n",
        "plt.show()"
      ],
      "metadata": {
        "id": "o58-TEIhveiU"
      },
      "execution_count": null,
      "outputs": []
    },
    {
      "cell_type": "markdown",
      "source": [
        "**Specific Chart Usage Purpose:**\n",
        "\n",
        "---\n",
        "Used pairplot to perform cross attribute comparison to see rating parameters reliability\n",
        "\n"
      ],
      "metadata": {
        "id": "Di49Y9bZ4Ck_"
      }
    },
    {
      "cell_type": "markdown",
      "source": [
        "OBSERVATIONS\n",
        "1. The scatter plots show a  positive trend between both imdb_score and tmdb_score — indicating positive correlation.\n",
        "\n",
        "2. Runtime vs IMDb score and Runtime vs TMDB score show a negative correlation.\n"
      ],
      "metadata": {
        "id": "86AJ7jEdlzTG"
      }
    },
    {
      "cell_type": "markdown",
      "source": [
        "**INTERPRETATIONS**\n",
        "\n",
        "1. IMDB scores and TMDB scores have a similar filter to rate movies and do not have a polarised effect on users who judge by these ratings.\n",
        "2. Negative correlation with runtime indicates users have not rated or judged content based on the length of the content."
      ],
      "metadata": {
        "id": "wjO-MEe-sIn5"
      }
    },
    {
      "cell_type": "markdown",
      "source": [
        "**CONCLUSIONS**\n",
        "\n",
        "\n",
        "\n",
        "1.   IMDB and TMDB correlation suggests platforms like Amazon Prime can analyse data from either platforms because of them are reliable.\n",
        "2.  Runtime is not a predictor of the user rating for a movie or tv show.\n",
        "\n"
      ],
      "metadata": {
        "id": "iWPHj-aotgQp"
      }
    },
    {
      "cell_type": "markdown",
      "source": [
        "## **5. Solution to Business Objective**"
      ],
      "metadata": {
        "id": "JcMwzZxoAimU"
      }
    },
    {
      "cell_type": "markdown",
      "source": [
        "1. Investing more in Regional language based content in Asian and European countries as they show tremendous growth and high popularity.\n",
        "\n",
        "2. Prioritizing collaborations with top-performing artists and adding movies/tv shows  of popular actors and directors identified through the data (e.g., actors/directors with high average IMDb ratings and large title counts).\n",
        "\n",
        "3. Targeting content production in countries like the US, UK, and India, where high-rated titles and more consistent popularity are evident.\n",
        "\n",
        "4. Focusing on content with runtime between 90–120 minutes, as this range is associated with better audience engagement.\n",
        "\n",
        "5. Continuing to acquire or produce content rated for 13+ and 16+ age groups, which dominate the platform and are well-received by viewers.\n",
        "\n",
        "6. Prioritizing children and family friend content addition to the platform for wider audience reach and higher engagement.\n",
        "\n",
        "7. Investing on top genres like Drama, Comedy, Romance, Action and Horror movies which have high viewership.\n",
        "\n",
        "8. Focusing on TV Show categories like Reality shows and other episodic content because of their high ratings which will bring in family audience engagement.\n",
        "\n",
        "9. Analysing ratings and popularity data from IMDB and TMDB which has a large cinephile user base."
      ],
      "metadata": {
        "id": "pASKb0qOza21"
      }
    },
    {
      "cell_type": "markdown",
      "source": [
        "# **Conclusion**"
      ],
      "metadata": {
        "id": "gCX9965dhzqZ"
      }
    },
    {
      "cell_type": "markdown",
      "source": [
        "This project provided a comprehensive data-driven overview of Amazon Prime's content library. Through exploration of key metrics like IMDb scores, TMDb popularity, genres, production countries, content categories and contributors, we were able to derive actionable insights that can inform platform strategy. The findings highlight opportunities for optimizing content acquisition and production by focusing on high-performing categories and contributors.\n",
        "With better content strategy aligned to user preferences and data-backed trends, Amazon Prime can improve viewer satisfaction, increase engagement, and enhance market competitiveness."
      ],
      "metadata": {
        "id": "Fjb1IsQkh3yE"
      }
    },
    {
      "cell_type": "markdown",
      "source": [
        "### ***Hurrah! You have successfully completed your EDA Capstone Project !!!***"
      ],
      "metadata": {
        "id": "gIfDvo9L0UH2"
      }
    }
  ]
}